{
 "cells": [
  {
   "cell_type": "code",
   "execution_count": 203,
   "id": "f92f5fa3-5100-424c-a109-1dda31bde60b",
   "metadata": {
    "tags": []
   },
   "outputs": [],
   "source": [
    "#Загрузка данных.\n",
    "import pandas as pd\n",
    "import numpy as np\n",
    "df1 = pd.read_csv('1.csv')\n",
    "df2 = pd.read_csv('2.csv')\n",
    "df3 = pd.read_csv('3.csv')\n",
    "df4 = pd.read_csv('4.csv')"
   ]
  },
  {
   "cell_type": "code",
   "execution_count": 204,
   "id": "3ea86a3b-3987-4d74-8f24-cb6725c79fba",
   "metadata": {
    "tags": []
   },
   "outputs": [
    {
     "name": "stdout",
     "output_type": "stream",
     "text": [
      "46.239924134660974\n",
      "66.57268722466961\n",
      "57.5599582898853\n",
      "73.51633986928104\n"
     ]
    }
   ],
   "source": [
    "#Исследование данных. Процент решенных задач на каждой неделе.\n",
    "print(df1['ready_num'].mean() * 10)\n",
    "print(df2['ready_num'].mean() * 10)\n",
    "print(df3['ready_num'].mean() * 10)\n",
    "print(df4['ready_num'].mean() * 10)"
   ]
  },
  {
   "cell_type": "code",
   "execution_count": 205,
   "id": "86e98bfe-97df-405e-9bd8-e29e830407e9",
   "metadata": {
    "tags": []
   },
   "outputs": [
    {
     "name": "stdout",
     "output_type": "stream",
     "text": [
      "Процент None в 1 неделе: 44.29\n",
      "Процент None в 2 неделе: 28.47\n",
      "Процент None в 3 неделе: 32.82\n",
      "Процент None в 4 неделе: 20.09\n"
     ]
    }
   ],
   "source": [
    "#Исследование данных. Процент None значений\n",
    "def count_Nones(df):\n",
    "    nones = len(df) * 10 - (df['A'].count() + df['B'].count() + df['C'].count()\n",
    "                            + df['D'].count() + df['E'].count() + df['F'].count()\n",
    "                            + df['G'].count() + df['H'].count() + df['I'].count()\n",
    "                            + df['J'].count())\n",
    "    return nones / (len(df) * 10)\n",
    "print(f'Процент None в 1 неделе: {count_Nones(df1)*100:.2f}')\n",
    "print(f'Процент None в 2 неделе: {count_Nones(df2)*100:.2f}')\n",
    "print(f'Процент None в 3 неделе: {count_Nones(df3)*100:.2f}')\n",
    "print(f'Процент None в 4 неделе: {count_Nones(df4)*100:.2f}')"
   ]
  },
  {
   "cell_type": "code",
   "execution_count": 206,
   "id": "043041f5-7b94-42db-98dd-ec75860be07b",
   "metadata": {
    "tags": []
   },
   "outputs": [],
   "source": [
    "#Меняем столбики с + - на 0 и 1.\n",
    "cols = ['A', 'B', 'C', 'D', 'E', 'F', 'G', 'H', 'I', 'J']\n",
    "def sign_to_numbers(df):\n",
    "    for col in cols:\n",
    "        df[col] = df[col].map({'+': 1, '-': 0, 1:1, 0:0})\n",
    "    return df\n",
    "df1 = sign_to_numbers(df1)\n",
    "df2 = sign_to_numbers(df2)\n",
    "df3 = sign_to_numbers(df3)\n",
    "df4 = sign_to_numbers(df4)"
   ]
  },
  {
   "cell_type": "code",
   "execution_count": 207,
   "id": "2c4135cd-28f9-4851-959f-7f04cd0e9039",
   "metadata": {
    "tags": []
   },
   "outputs": [],
   "source": [
    "cols = ['A', 'B', 'C', 'D', 'E', 'F', 'G', 'H', 'I', 'J']\n",
    "def time_otnos(df):\n",
    "    maxx = df[cols[0] + '_time'].max()\n",
    "    for col in cols:\n",
    "        df[col + '_time'] = df[col + '_time'] / maxx\n",
    "    maxx = df['penalty'].max()\n",
    "    df['penalty'] = df['penalty'] / maxx\n",
    "    return df\n",
    "df1 = time_otnos(df1)\n",
    "df2 = time_otnos(df2)\n",
    "df3 = time_otnos(df3)\n",
    "df4 = time_otnos(df4)"
   ]
  },
  {
   "cell_type": "code",
   "execution_count": 208,
   "id": "8eeaef4d-0653-464e-bc52-1e06a33b7bd9",
   "metadata": {
    "tags": []
   },
   "outputs": [],
   "source": [
    "#Сохраним, то как даатсеты сейчас, чтобы использовать их для второй задачи\n",
    "data1 = df1\n",
    "data2 = df2\n",
    "data3 = df3\n",
    "data4 = df4"
   ]
  },
  {
   "cell_type": "code",
   "execution_count": 209,
   "id": "933f34eb-ad41-43b2-8746-6c6235e6c17c",
   "metadata": {
    "tags": []
   },
   "outputs": [],
   "source": [
    "cols = ['A', 'B', 'C', 'D', 'E', 'F', 'G', 'H', 'I', 'J']\n",
    "def calculate_hards(df):\n",
    "    hards = []\n",
    "    for col in cols:\n",
    "        summ = df[col].sum()\n",
    "        hard = ( 1 - (summ / len(df)) )\n",
    "        hards.append(round(hard, 4))\n",
    "    return hards"
   ]
  },
  {
   "cell_type": "code",
   "execution_count": 210,
   "id": "72bfad17-7f96-4e42-99c5-db16904b69f9",
   "metadata": {
    "tags": []
   },
   "outputs": [
    {
     "name": "stdout",
     "output_type": "stream",
     "text": [
      "Какой пордок сложности был\n",
      "0.1223 0.2831 0.5894 0.2693 0.2973 0.404 0.7435 0.8369 0.8819 0.9483\n",
      "0.0784 0.1084 0.1101 0.1551 0.3604 0.4018 0.4952 0.4555 0.4767 0.7013\n",
      "0.0115 0.0907 0.683 0.1418 0.3087 0.6955 0.3128 0.5339 0.6006 0.8655\n",
      "0.0105 0.0118 0.0196 0.2157 0.4248 0.2575 0.2745 0.4131 0.4366 0.5843\n",
      "Какой пордок сложностей стал\n",
      "0.1223 0.2693 0.2831 0.2973 0.404 0.5894 0.7435 0.8369 0.8819 0.9483\n",
      "0.0784 0.1084 0.1101 0.1551 0.3604 0.4018 0.4555 0.4767 0.4952 0.7013\n",
      "0.0115 0.0907 0.1418 0.3087 0.3128 0.5339 0.6006 0.683 0.6955 0.8655\n",
      "0.0105 0.0118 0.0196 0.2157 0.2575 0.2745 0.4131 0.4248 0.4366 0.5843\n"
     ]
    }
   ],
   "source": [
    "print(\"Какой пордок сложности был\")\n",
    "hards1 = calculate_hards(df1)\n",
    "print(*hards1)\n",
    "hards2 = calculate_hards(df2)\n",
    "print(*hards2)\n",
    "hards3 = calculate_hards(df3)\n",
    "print(*hards3)\n",
    "hards4 = calculate_hards(df4)\n",
    "print(*hards4)\n",
    "\n",
    "df1 = df1.rename( columns={'B': 't1', 'C': 't2', 'D': 't3', 'E': 't4', 'F': 't5'} )\n",
    "df1 = df1.rename( columns={'t1': 'C', 't2': 'F', 't3': 'B', 't4':'D', 't5': 'E'} ) \n",
    "df2 = df2.rename( columns={'G': 't1', 'H': 't2', 'I': 't3'} )\n",
    "df2 = df2.rename( columns={'t1': 'I', 't2': 'G', 't3': 'H'} ) \n",
    "df3 = df3.rename( columns={'C': 't1', 'D': 't2', 'E': 't3', 'F': 't4', 'G': 't5', 'H': 't6', 'I': 't7'} )\n",
    "df3 = df3.rename( columns={'t1':'H', 't2':'C', 't3':'D', 't4':'I', 't5':'E', 't6':'F', 't7':'G' } ) \n",
    "df4 = df4.rename( columns={'E': 't1', 'F': 't2', 'G': 't3', 'H': 't4'} ) \n",
    "df4 = df4.rename( columns={'t1': 'H', 't2': 'E', 't3':'F', 't4': 'G'} ) \n",
    "\n",
    "df1 = df1.rename( columns={'B_errors': 't1', 'C_errors': 't2', 'D_errors': 't3', 'E_errors': 't4', 'F_errors': 't5'} )\n",
    "df1 = df1.rename( columns={'t1': 'C_errors', 't2': 'F_errors', 't3': 'B_errors', 't4':'D_errors', 't5': 'E_errors'} ) \n",
    "df2 = df2.rename( columns={'G_errors': 't1', 'H_errors': 't2', 'I_errors':'t3'} )\n",
    "df2 = df2.rename( columns={'t1': 'I_errors', 't2': 'G_errors', 't3': 'H_errors'} ) \n",
    "df3 = df3.rename( columns={'C_errors': 't1', 'D_errors': 't2', 'E_errors': 't3', 'F_errors': 't4', 'G_errors': 't5', 'H_errors': 't6', 'I_errors': 't7'} )\n",
    "df3 = df3.rename( columns={'t1':'H_errors', 't2':'C_errors', 't3':'D_errors', 't4':'I_errors', 't5':'E_errors', 't6':'F_errors', 't7':'G_errors'} ) \n",
    "df4 = df4.rename( columns={'E_errors': 't1', 'F_errors': 't2', 'G_errors': 't3', 'H_errors': 't4'} ) \n",
    "df4 = df4.rename( columns={'t1': 'H_errors', 't2': 'E_errors', 't3':'F_errors', 't4': 'G_errors'} ) \n",
    "\n",
    "df1 = df1.rename( columns={'B_time': 't1', 'C_time': 't2', 'D_time': 't3', 'E_time': 't4', 'F_time': 't5'} )\n",
    "df1 = df1.rename( columns={'t1': 'C_time', 't2': 'F_time', 't3': 'B_time', 't4':'D_time', 't5': 'E_time'} )\n",
    "df2 = df2.rename( columns={'G_time': 't1', 'H_time': 't2', 'I_time': 't3'} )\n",
    "df2 = df2.rename( columns={'t1': 'I_time', 't2': 'G_time', 't3': 'H_time'} )\n",
    "df3 = df3.rename( columns={'C_time': 't1', 'D_time': 't2', 'E_time': 't3', 'F_time': 't4', 'G_time': 't5', 'H_time': 't6', 'I_time': 't7'} )\n",
    "df3 = df3.rename( columns={'t1':'H_time', 't2':'C_time', 't3':'D_time', 't4':'I_time', 't5':'E_time', 't6':'F_time', 't7':'G_time'} )\n",
    "df4 = df4.rename( columns={'E_time': 't1', 'F_time': 't2', 'G_time': 't3', 'H_time': 't4'} )\n",
    "df4 = df4.rename( columns={'t1': 'H_time', 't2': 'E_time', 't3': 'F_time', 't4': 'G_time'} )\n",
    "\n",
    "new_order = ['rate', 'id', 'A', 'A_errors', 'A_time', 'B', 'B_errors', 'B_time', 'C', 'C_errors', 'C_time', 'D', 'D_errors', 'D_time', 'E', 'E_errors', 'E_time', 'F', 'F_errors', 'F_time', 'G', 'G_errors', 'G_time', 'H', 'H_errors', 'H_time', 'I', 'I_errors', 'I_time', 'J', 'J_errors', 'J_time', 'ready_num', 'penalty']\n",
    "df1 = pd.DataFrame({col: df1[col] for col in new_order})\n",
    "df2 = pd.DataFrame({col: df2[col] for col in new_order})\n",
    "df3 = pd.DataFrame({col: df3[col] for col in new_order})\n",
    "df4 = pd.DataFrame({col: df4[col] for col in new_order})\n",
    "\n",
    "print(\"Какой пордок сложностей стал\")\n",
    "hards1 = calculate_hards(df1)\n",
    "print(*hards1)\n",
    "hards2 = calculate_hards(df2)\n",
    "print(*hards2)\n",
    "hards3 = calculate_hards(df3)\n",
    "print(*hards3)\n",
    "hards4 = calculate_hards(df4)\n",
    "print(*hards4)"
   ]
  },
  {
   "cell_type": "code",
   "execution_count": 211,
   "id": "a5e7c8aa-f7aa-43de-8365-79ffa6946e57",
   "metadata": {
    "tags": []
   },
   "outputs": [],
   "source": [
    "#Это сохранека для первой задачи\n",
    "df1.to_csv('a1.csv')\n",
    "df2.to_csv('a2.csv')\n",
    "df3.to_csv('a3.csv')\n",
    "df4.to_csv('a4.csv')"
   ]
  },
  {
   "cell_type": "code",
   "execution_count": 212,
   "id": "c0474d89-a422-4fc9-8b46-a42a7446e7fb",
   "metadata": {
    "tags": []
   },
   "outputs": [],
   "source": [
    "#Мы сохранили дата сеты для первой задачи.\n",
    "#Теперь снова вернемся к прошлым таблицам\n",
    "df1 = data1\n",
    "df2 = data2\n",
    "df3 = data3\n",
    "df4 = data4"
   ]
  },
  {
   "cell_type": "code",
   "execution_count": 213,
   "id": "7871a441-450c-42ca-95bf-c025f363c12a",
   "metadata": {
    "tags": []
   },
   "outputs": [],
   "source": [
    "cols = ['A', 'B', 'C', 'D', 'E', 'F', 'G', 'H', 'I', 'J']\n",
    "def half_data_delete(df):\n",
    "    for col in cols:\n",
    "        task = col\n",
    "        error = col + '_errors'\n",
    "        time = col + '_time'\n",
    "        df.loc[ df[time] > 0.5, task ] = None\n",
    "        df.loc[ df[time] > 0.5, error ] = None\n",
    "        df.loc[ df[time] > 0.5, time ] = None\n",
    "    return df\n",
    "df1 = half_data_delete(df1)\n",
    "df2 = half_data_delete(df2)\n",
    "df3 = half_data_delete(df3)\n",
    "df4 = half_data_delete(df4)\n",
    "#def floatize_rate(rate):\n",
    "#    try:\n",
    "#        rate = int(rate)\n",
    "#    except:\n",
    "#        k = 0\n",
    "#        while (rate[k] != '-'):\n",
    "#            k += 1\n",
    "#        rate = int(rate[:k])\n",
    "#    return rate\n",
    "#df1['rate'] = df1['rate'].apply(floatize_rate) \n",
    "#df2['rate'] = df2['rate'].apply(floatize_rate) \n",
    "#df3['rate'] = df3['rate'].apply(floatize_rate) \n",
    "#df4['rate'] = df4['rate'].apply(floatize_rate)\n",
    "#df1['rate'] = df1['rate']/len(df1)\n",
    "#df2['rate'] = df2['rate']/len(df1)\n",
    "#df3['rate'] = df3['rate']/len(df1)\n",
    "#df4['rate'] = df4['rate']/len(df1)"
   ]
  },
  {
   "cell_type": "code",
   "execution_count": 214,
   "id": "30302f3b-7e0c-4173-80c8-d3f755821a23",
   "metadata": {
    "tags": []
   },
   "outputs": [
    {
     "name": "stdout",
     "output_type": "stream",
     "text": [
      "Какой пордок сложносте был\n",
      "0.5107 0.6283 0.8274 0.6809 0.7127 0.7843 0.9199 0.9635 0.9829 0.9924\n",
      "0.5163 0.5392 0.5436 0.6097 0.7604 0.8009 0.8414 0.8405 0.8573 0.933\n",
      "0.3618 0.4703 0.877 0.5631 0.6767 0.8957 0.7268 0.8425 0.8947 0.9802\n",
      "0.3386 0.3569 0.3712 0.5281 0.7176 0.6562 0.6732 0.7333 0.749 0.8575\n",
      "Какой пордок сложностей стал\n",
      "0.5107 0.6283 0.6809 0.7127 0.7843 0.8274 0.9199 0.9635 0.9829 0.9924\n",
      "0.5163 0.5392 0.5436 0.6097 0.7604 0.8009 0.8405 0.8414 0.8573 0.933\n",
      "0.3618 0.4703 0.5631 0.6767 0.7268 0.8425 0.877 0.8947 0.8957 0.9802\n",
      "0.3386 0.3569 0.3712 0.5281 0.6562 0.6732 0.7176 0.7333 0.749 0.8575\n"
     ]
    }
   ],
   "source": [
    "print(\"Какой пордок сложносте был\")\n",
    "hards1 = calculate_hards(df1)\n",
    "print(*hards1)\n",
    "hards2 = calculate_hards(df2)\n",
    "print(*hards2)\n",
    "hards3 = calculate_hards(df3)\n",
    "print(*hards3)\n",
    "hards4 = calculate_hards(df4)\n",
    "print(*hards4)\n",
    "\n",
    "df1 = df1.rename( columns={'C': 't1', 'D': 't2', 'E': 't3', 'F': 't4'} )\n",
    "df1 = df1.rename( columns={'t1': 'F', 't2': 'C', 't3': 'D', 't4':'E'} ) \n",
    "df2 = df2.rename( columns={'H': 't1', 'G': 't2'} )\n",
    "df2 = df2.rename( columns={'t1': 'G', 't2': 'H'} ) \n",
    "df3 = df3.rename( columns={'C': 't1', 'D': 't2', 'E': 't3', 'F': 't4', 'G': 't5', 'H': 't6', 'I': 't7'} )\n",
    "df3 = df3.rename( columns={'t1':'G', 't2':'C', 't3':'D', 't4':'I', 't5':'E', 't6':'F', 't7':'H' } ) \n",
    "df4 = df4.rename( columns={'E': 't1', 'F': 't2', 'G': 't3'} ) \n",
    "df4 = df4.rename( columns={'t1': 'G', 't2': 'E', 't3':'F'} ) \n",
    "\n",
    "df1 = df1.rename( columns={'C_errors': 't1', 'D_errors': 't2', 'E_errors': 't3', 'F_errors': 't4'} )\n",
    "df1 = df1.rename( columns={'t1': 'F_errors', 't2': 'C_errors', 't3': 'E_errors', 't4':'D_errors'} ) \n",
    "df2 = df2.rename( columns={'H_errors': 't1', 'G_errors': 't2'} )\n",
    "df2 = df2.rename( columns={'t1': 'G_errors', 't2': 'H_errors'} ) \n",
    "df3 = df3.rename( columns={'C_errors': 't1', 'D_errors': 't2', 'E_errors': 't3', 'F_errors': 't4', 'G_errors': 't5', 'H_errors': 't6', 'I_errors': 't7'} )\n",
    "df3 = df3.rename( columns={'t1':'G_errors', 't2':'C_errors', 't3':'D_errors', 't4':'I_errors', 't5':'E_errors', 't6':'F_errors', 't7':'H_errors'} ) \n",
    "df4 = df4.rename( columns={'E_errors': 't1', 'F_errors': 't2', 'G_errors': 't3'} ) \n",
    "df4 = df4.rename( columns={'t1': 'G_errors', 't2': 'E_errors', 't3':'F_errors'} ) \n",
    "\n",
    "df1 = df1.rename( columns={'C_time': 't1', 'D_time': 't2', 'E_time': 't3', 'F_time': 't4'} )\n",
    "df1 = df1.rename( columns={'t1': 'F_time', 't2': 'C_time', 't3': 'D_time', 't4':'E_time'} )\n",
    "df2 = df2.rename( columns={'H_time': 't1', 'G_time': 't2'} )\n",
    "df2 = df2.rename( columns={'t1': 'G_time', 't2': 'H_time'} )\n",
    "df3 = df3.rename( columns={'C_time': 't1', 'D_time': 't2', 'E_time': 't3', 'F_time': 't4', 'G_time': 't5', 'H_time': 't6', 'I_time': 't7'} )\n",
    "df3 = df3.rename( columns={'t1':'G_time', 't2':'C_time', 't3':'D_time', 't4':'I_time', 't5':'E_time', 't6':'F_time', 't7':'H_time'} )\n",
    "df4 = df4.rename( columns={'E_time': 't1', 'F_time': 't2', 'G_time': 't3'} )\n",
    "df4 = df4.rename( columns={'t1': 'G_time', 't2': 'E_time', 't3':'F_time'} )\n",
    "\n",
    "new_order = ['rate', 'id', 'A', 'A_errors', 'A_time', 'B', 'B_errors', 'B_time', 'C', 'C_errors', 'C_time', 'D', 'D_errors', 'D_time', 'E', 'E_errors', 'E_time', 'F', 'F_errors', 'F_time', 'G', 'G_errors', 'G_time', 'H', 'H_errors', 'H_time', 'I', 'I_errors', 'I_time', 'J', 'J_errors', 'J_time', 'ready_num', 'penalty']\n",
    "df1 = pd.DataFrame({col: df1[col] for col in new_order})\n",
    "df2 = pd.DataFrame({col: df2[col] for col in new_order})\n",
    "df3 = pd.DataFrame({col: df3[col] for col in new_order})\n",
    "df4 = pd.DataFrame({col: df4[col] for col in new_order})\n",
    "\n",
    "print(\"Какой пордок сложностей стал\")\n",
    "hards1 = calculate_hards(df1)\n",
    "print(*hards1)\n",
    "hards2 = calculate_hards(df2)\n",
    "print(*hards2)\n",
    "hards3 = calculate_hards(df3)\n",
    "print(*hards3)\n",
    "hards4 = calculate_hards(df4)\n",
    "print(*hards4)"
   ]
  },
  {
   "cell_type": "code",
   "execution_count": 215,
   "id": "169fd4a3-41e5-4115-829d-60f992b89253",
   "metadata": {
    "tags": []
   },
   "outputs": [],
   "source": [
    "#Это сохранека для второй задачи\n",
    "df1.to_csv('b1.csv')\n",
    "df2.to_csv('b2.csv')\n",
    "df3.to_csv('b3.csv')\n",
    "df4.to_csv('b4.csv')"
   ]
  },
  {
   "cell_type": "code",
   "execution_count": null,
   "id": "7118e3e8-0e1e-4ce1-86ae-25f90b03391d",
   "metadata": {},
   "outputs": [],
   "source": []
  }
 ],
 "metadata": {
  "kernelspec": {
   "display_name": "Python 3",
   "language": "python",
   "name": "python3"
  },
  "language_info": {
   "codemirror_mode": {
    "name": "ipython",
    "version": 3
   },
   "file_extension": ".py",
   "mimetype": "text/x-python",
   "name": "python",
   "nbconvert_exporter": "python",
   "pygments_lexer": "ipython3",
   "version": "3.11.5"
  }
 },
 "nbformat": 4,
 "nbformat_minor": 5
}
