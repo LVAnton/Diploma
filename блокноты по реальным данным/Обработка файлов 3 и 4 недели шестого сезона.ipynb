{
 "cells": [
  {
   "cell_type": "code",
   "execution_count": 26,
   "id": "340ed45b-e17a-4f08-91fe-ade6d946b9d7",
   "metadata": {
    "tags": []
   },
   "outputs": [],
   "source": [
    "import pandas as pd\n",
    "import numpy as np\n",
    "df1 = pd.read_csv(\"5.csv\") \n",
    "df2 = pd.read_csv(\"6.csv\")"
   ]
  },
  {
   "cell_type": "code",
   "execution_count": 27,
   "id": "41fd196b-0ce7-44f6-89cf-d7514aa2e27f",
   "metadata": {
    "tags": []
   },
   "outputs": [],
   "source": [
    "def time_otnos(df):\n",
    "    maxx = df[cols[0] + '_time'].max()\n",
    "    for col in cols:\n",
    "        df[col + '_time'] = df[col + '_time'] / maxx\n",
    "    maxx = df['penalty'].max()\n",
    "    df['penalty'] = df['penalty'] / maxx\n",
    "    return df\n",
    "\n",
    "cols = ['A', 'B', 'C', 'D', 'E', 'F', 'G', 'H', 'I', 'J']\n",
    "def half_data_delete(df):\n",
    "    for col in cols:\n",
    "        task = col\n",
    "        error = col + '_errors'\n",
    "        time = col + '_time'\n",
    "        df.loc[ df[time] > 0.5, task ] = None\n",
    "        df.loc[ df[time] > 0.5, error ] = None\n",
    "        df.loc[ df[time] > 0.5, time ] = None\n",
    "    return df\n",
    "\n",
    "def sign_to_numbers(df):\n",
    "    for col in cols:\n",
    "        df[col] = df[col].map({'+': 1, '-': 0, 1:1, 0:0})\n",
    "    return df\n",
    "\n",
    "df1 = sign_to_numbers(df1)\n",
    "df2 = sign_to_numbers(df2)\n",
    "df1 = time_otnos(df1)\n",
    "df2 = time_otnos(df2)\n",
    "df1 = half_data_delete(df1)\n",
    "df2 = half_data_delete(df2)\n",
    "\n",
    "df1.to_csv('5_predict_num.csv')\n",
    "df2.to_csv('6_predict_num.csv')"
   ]
  },
  {
   "cell_type": "code",
   "execution_count": 29,
   "id": "87490628-9890-4cb9-a8b6-1bdf6af941c2",
   "metadata": {
    "tags": []
   },
   "outputs": [],
   "source": [
    "df1 = df1.drop('ready_num', axis=1)\n",
    "df2 = df2.drop('ready_num', axis=1)\n",
    "df1.to_csv('5_to_app.csv')\n",
    "df2.to_csv('6_to_app.csv')"
   ]
  }
 ],
 "metadata": {
  "kernelspec": {
   "display_name": "Python 3",
   "language": "python",
   "name": "python3"
  },
  "language_info": {
   "codemirror_mode": {
    "name": "ipython",
    "version": 3
   },
   "file_extension": ".py",
   "mimetype": "text/x-python",
   "name": "python",
   "nbconvert_exporter": "python",
   "pygments_lexer": "ipython3",
   "version": "3.11.5"
  }
 },
 "nbformat": 4,
 "nbformat_minor": 5
}
